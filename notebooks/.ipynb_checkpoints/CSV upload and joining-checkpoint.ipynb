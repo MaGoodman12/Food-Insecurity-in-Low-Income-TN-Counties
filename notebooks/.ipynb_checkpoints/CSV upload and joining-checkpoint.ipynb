{
 "cells": [
  {
   "cell_type": "code",
   "execution_count": null,
   "id": "bd7df4d3",
   "metadata": {},
   "outputs": [],
   "source": [
    "import pandas as pd\n",
    "import numpy as np\n",
    "import matplotlib.pyplot as plt\n",
    "import re\n",
    "import seaborn as sns\n",
    "from functools import reduce\n",
    "from glob import glob\n",
    "%matplotlib inline"
   ]
  },
  {
   "cell_type": "code",
   "execution_count": null,
   "id": "228c7890",
   "metadata": {},
   "outputs": [],
   "source": [
    "pd.set_option('display.max_columns', None)"
   ]
  },
  {
   "cell_type": "code",
   "execution_count": null,
   "id": "bb12d55f",
   "metadata": {},
   "outputs": [],
   "source": [
    "pop = pd.read_csv(\"../data/population by county.csv\").rename(columns=str.lower).rename(columns={\"census\":\"population\"})\n",
    "pop"
   ]
  },
  {
   "cell_type": "code",
   "execution_count": null,
   "id": "6cc8c53c",
   "metadata": {},
   "outputs": [],
   "source": [
    "income = pd.read_csv(\"../data/Below avg income counties.csv\")\n",
    "income"
   ]
  },
  {
   "cell_type": "code",
   "execution_count": null,
   "id": "fe9e78d5",
   "metadata": {},
   "outputs": [],
   "source": [
    "households = pd.read_csv(\"../data/county households.csv\")\n",
    "households"
   ]
  },
  {
   "cell_type": "code",
   "execution_count": null,
   "id": "955f6975",
   "metadata": {
    "scrolled": true
   },
   "outputs": [],
   "source": [
    "rent = pd.read_csv(\"../data/rent.csv\")\n",
    "rent"
   ]
  },
  {
   "cell_type": "code",
   "execution_count": null,
   "id": "f3ba5ff4",
   "metadata": {},
   "outputs": [],
   "source": [
    "for col in rent.columns:\n",
    "    rent.rename(columns={col:col.lower().replace(\"fmr\",\"beds\")},inplace=True)"
   ]
  },
  {
   "cell_type": "code",
   "execution_count": null,
   "id": "782beaf7",
   "metadata": {},
   "outputs": [],
   "source": [
    "rent"
   ]
  },
  {
   "cell_type": "code",
   "execution_count": null,
   "id": "bd48975b",
   "metadata": {
    "scrolled": true
   },
   "outputs": [],
   "source": [
    "food = pd.read_csv(\"../data/food insecurity.csv\").rename(columns=str.lower)\n",
    "food = food.rename(columns= {\"# food insecure\":\"number food insecure\", \"% food insecure\":\"percent food insecure\"})\n",
    "food"
   ]
  },
  {
   "cell_type": "code",
   "execution_count": null,
   "id": "8d75f498",
   "metadata": {},
   "outputs": [],
   "source": [
    "snap = pd.read_csv(\"../data/SNAP.csv\").rename(columns={'Individuals':'snap individuals','Households':'snap households'})\n",
    "snap"
   ]
  },
  {
   "cell_type": "code",
   "execution_count": null,
   "id": "159d4c3c",
   "metadata": {
    "scrolled": true
   },
   "outputs": [],
   "source": [
    "wic = pd.read_csv(\"../data/WIC.csv\").rename(columns={'number':'wic individuals','percent':'percent of pop with wic'})\n",
    "wic"
   ]
  },
  {
   "cell_type": "code",
   "execution_count": null,
   "id": "cdb83ec7",
   "metadata": {},
   "outputs": [],
   "source": [
    "all_data = pop.append([food, rent, snap, wic, households, income], ignore_index=True).groupby('county').sum().rename(columns=str.lower)\n",
    "#all_data.to_csv('../data/all data.csv')\n",
    "all_data"
   ]
  }
 ],
 "metadata": {
  "kernelspec": {
   "display_name": "Python 3",
   "language": "python",
   "name": "python3"
  },
  "language_info": {
   "codemirror_mode": {
    "name": "ipython",
    "version": 3
   },
   "file_extension": ".py",
   "mimetype": "text/x-python",
   "name": "python",
   "nbconvert_exporter": "python",
   "pygments_lexer": "ipython3",
   "version": "3.8.8"
  }
 },
 "nbformat": 4,
 "nbformat_minor": 5
}
