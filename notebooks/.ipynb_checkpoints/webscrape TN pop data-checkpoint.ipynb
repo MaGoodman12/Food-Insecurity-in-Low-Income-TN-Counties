{
 "cells": [
  {
   "cell_type": "markdown",
   "id": "ff465d3e",
   "metadata": {},
   "source": [
    "## BeautifulSoup on TN population data"
   ]
  },
  {
   "cell_type": "code",
   "execution_count": null,
   "id": "f1b28f3e",
   "metadata": {},
   "outputs": [],
   "source": [
    "import requests\n",
    "from bs4 import BeautifulSoup  \n",
    "import pandas as pd\n",
    "import re\n",
    "%matplotlib inline"
   ]
  },
  {
   "cell_type": "code",
   "execution_count": null,
   "id": "046c2ac5",
   "metadata": {
    "scrolled": true
   },
   "outputs": [],
   "source": [
    "url = 'https://www.census.gov/quickfacts/fact/table/TN/RHI625219'\n",
    "response = requests.get(url)\n",
    "\n",
    "response.status_code"
   ]
  },
  {
   "cell_type": "code",
   "execution_count": null,
   "id": "2b9e9e16",
   "metadata": {
    "scrolled": true
   },
   "outputs": [],
   "source": [
    "soup = BeautifulSoup(response.content, 'lxml')\n",
    "print(soup.title)\n",
    "print(\"--------------\")\n",
    "print(soup)"
   ]
  },
  {
   "cell_type": "code",
   "execution_count": null,
   "id": "3e46cd5e",
   "metadata": {},
   "outputs": [],
   "source": [
    "#trying to isolate headers, titles, values"
   ]
  },
  {
   "cell_type": "markdown",
   "id": "f60eb662",
   "metadata": {},
   "source": [
    "headers_total = soup.find_all(id = 'qfcontent')\n",
    "headers_total"
   ]
  },
  {
   "cell_type": "markdown",
   "id": "2f141a81",
   "metadata": {},
   "source": [
    "headers = []\n",
    "headers_total = soup.find_all(id = 'qfcontent')\n",
    "\n",
    "for item in headers:\n",
    "    headers.append(item.text)\n",
    "\n",
    "headers"
   ]
  },
  {
   "cell_type": "markdown",
   "id": "67b04d13",
   "metadata": {},
   "source": [
    "td = soup.find_all('td')\n",
    "td"
   ]
  },
  {
   "cell_type": "markdown",
   "id": "a60daaa9",
   "metadata": {
    "scrolled": true
   },
   "source": [
    "td[5:10]"
   ]
  },
  {
   "cell_type": "code",
   "execution_count": null,
   "id": "cf57a1ca",
   "metadata": {},
   "outputs": [],
   "source": [
    "#dataquest webscrape walkthrough"
   ]
  },
  {
   "cell_type": "code",
   "execution_count": null,
   "id": "baa39b9a",
   "metadata": {},
   "outputs": [],
   "source": [
    "list(soup.children)"
   ]
  },
  {
   "cell_type": "code",
   "execution_count": null,
   "id": "b6699ff3",
   "metadata": {},
   "outputs": [],
   "source": [
    "[type(item) for item in list(soup.children)]"
   ]
  },
  {
   "cell_type": "code",
   "execution_count": null,
   "id": "7898538b",
   "metadata": {},
   "outputs": [],
   "source": [
    "html = list(soup.children)[1]\n",
    "html"
   ]
  },
  {
   "cell_type": "code",
   "execution_count": null,
   "id": "28347866",
   "metadata": {},
   "outputs": [],
   "source": [
    "list(html.children)"
   ]
  },
  {
   "cell_type": "code",
   "execution_count": null,
   "id": "911d81c1",
   "metadata": {
    "scrolled": true
   },
   "outputs": [],
   "source": [
    "html_text = html.get_text()\n",
    "html_text"
   ]
  },
  {
   "cell_type": "code",
   "execution_count": null,
   "id": "b98fc177",
   "metadata": {},
   "outputs": [],
   "source": [
    "#datacamp regex intro"
   ]
  },
  {
   "cell_type": "code",
   "execution_count": null,
   "id": "e7d44bb9",
   "metadata": {
    "scrolled": true
   },
   "outputs": [],
   "source": [
    "html_text = re.split(r'\\n', html_text)"
   ]
  },
  {
   "cell_type": "code",
   "execution_count": null,
   "id": "e33d0efd",
   "metadata": {},
   "outputs": [],
   "source": [
    "html_text"
   ]
  },
  {
   "cell_type": "code",
   "execution_count": null,
   "id": "fe230db8",
   "metadata": {
    "scrolled": true
   },
   "outputs": [],
   "source": [
    "soup.find_all('span')[0].get_text()"
   ]
  },
  {
   "cell_type": "code",
   "execution_count": null,
   "id": "8390f53e",
   "metadata": {},
   "outputs": [],
   "source": [
    "#remove empty strings from list"
   ]
  },
  {
   "cell_type": "code",
   "execution_count": null,
   "id": "07168cc5",
   "metadata": {
    "scrolled": true
   },
   "outputs": [],
   "source": [
    "html_extracted = []\n",
    "for string in html_text:\n",
    "    if (string != \"\"):\n",
    "        html_extracted.append(string)\n",
    "\n",
    "print(html_extracted)"
   ]
  },
  {
   "cell_type": "code",
   "execution_count": null,
   "id": "b315b4c4",
   "metadata": {},
   "outputs": [],
   "source": [
    "for count, text in enumerate(html_extracted):\n",
    "    print(\"{0}. {1}\".format(count, text))\n",
    "    "
   ]
  },
  {
   "cell_type": "code",
   "execution_count": null,
   "id": "109d6dee",
   "metadata": {},
   "outputs": [],
   "source": [
    "#pull only relevant rows"
   ]
  },
  {
   "cell_type": "code",
   "execution_count": null,
   "id": "5df8c3f4",
   "metadata": {
    "scrolled": true
   },
   "outputs": [],
   "source": [
    "pop_dirty = html_extracted[103:156]\n",
    "pop_dirty"
   ]
  },
  {
   "cell_type": "code",
   "execution_count": null,
   "id": "9c987af1",
   "metadata": {
    "scrolled": true
   },
   "outputs": [],
   "source": [
    "pop_clean = []\n",
    "for string in pop_dirty:\n",
    "    if (string != \"\\ue840\\ue83f\"):\n",
    "        pop_clean.append(string)\n",
    "\n",
    "pop_clean"
   ]
  },
  {
   "cell_type": "code",
   "execution_count": null,
   "id": "96a6c082",
   "metadata": {},
   "outputs": [],
   "source": [
    "#convert list to dataframe"
   ]
  },
  {
   "cell_type": "code",
   "execution_count": null,
   "id": "546d30ca",
   "metadata": {
    "scrolled": true
   },
   "outputs": [],
   "source": [
    "pop = pd.DataFrame(pop_clean, columns = ['population']) \n",
    "pop"
   ]
  },
  {
   "cell_type": "code",
   "execution_count": null,
   "id": "cd226bfa",
   "metadata": {},
   "outputs": [],
   "source": [
    "pop.to_csv('../data/population.csv')"
   ]
  },
  {
   "cell_type": "code",
   "execution_count": null,
   "id": "2a7662f8",
   "metadata": {},
   "outputs": [],
   "source": [
    "#repeat steps for housing"
   ]
  },
  {
   "cell_type": "code",
   "execution_count": null,
   "id": "9de8fdea",
   "metadata": {},
   "outputs": [],
   "source": [
    "housing_list = html_extracted[157:185]"
   ]
  },
  {
   "cell_type": "code",
   "execution_count": null,
   "id": "d9b48a95",
   "metadata": {
    "scrolled": true
   },
   "outputs": [],
   "source": [
    "housing = pd.DataFrame(housing_list, columns = ['housing'])\n",
    "\n",
    "housing.to_csv('../data/housing.csv')\n",
    "housing"
   ]
  },
  {
   "cell_type": "code",
   "execution_count": null,
   "id": "2530e99e",
   "metadata": {
    "scrolled": true
   },
   "outputs": [],
   "source": [
    "tn_data = pd.DataFrame(html_extracted[103:156], html_extracted[103:156], columns = [[html_extracted[102]]])\n",
    "tn_data"
   ]
  },
  {
   "cell_type": "code",
   "execution_count": null,
   "id": "1005ac2d",
   "metadata": {},
   "outputs": [],
   "source": [
    "pop_clean"
   ]
  },
  {
   "cell_type": "code",
   "execution_count": null,
   "id": "f3265df5",
   "metadata": {
    "scrolled": true
   },
   "outputs": [],
   "source": [
    "even = [] \n",
    "for index, element in enumerate(pop_clean):\n",
    "    if index % 2 == 0:\n",
    "        print(element)\n",
    "        even.append(element)"
   ]
  },
  {
   "cell_type": "code",
   "execution_count": null,
   "id": "4855427c",
   "metadata": {},
   "outputs": [],
   "source": [
    "for count, text in enumerate(even):\n",
    "    print(\"{0}. {1}\".format(count, text))"
   ]
  },
  {
   "cell_type": "code",
   "execution_count": null,
   "id": "40c5a34d",
   "metadata": {},
   "outputs": [],
   "source": [
    "even_df = pd.DataFrame(even, columns= ['even rows'])\n",
    "even_df"
   ]
  },
  {
   "cell_type": "code",
   "execution_count": null,
   "id": "4ddf0e9f",
   "metadata": {
    "scrolled": true
   },
   "outputs": [],
   "source": [
    "odd = [] \n",
    "for index, element in enumerate(pop_clean):\n",
    "    if index % 2 == 1:\n",
    "        print(element)\n",
    "        odd.append(element)"
   ]
  },
  {
   "cell_type": "code",
   "execution_count": null,
   "id": "973e9f29",
   "metadata": {},
   "outputs": [],
   "source": [
    "tn_data = pd.DataFrame(odd, even, columns = [[html_extracted[102]]])\n",
    "tn_data"
   ]
  },
  {
   "cell_type": "markdown",
   "id": "46594944",
   "metadata": {},
   "source": [
    "hi = []\n",
    "count = []\n",
    "\n",
    "for i in hi:\n",
    "    if i = int()\n",
    "    hi.append(i)"
   ]
  },
  {
   "cell_type": "markdown",
   "id": "5784a1bb",
   "metadata": {},
   "source": [
    "even = [] \n",
    "for index, element in enumerate(pop_clean):\n",
    "    if index % 2 == 0:\n",
    "        print(element)\n",
    "        even.append(element)"
   ]
  }
 ],
 "metadata": {
  "kernelspec": {
   "display_name": "Python 3",
   "language": "python",
   "name": "python3"
  },
  "language_info": {
   "codemirror_mode": {
    "name": "ipython",
    "version": 3
   },
   "file_extension": ".py",
   "mimetype": "text/x-python",
   "name": "python",
   "nbconvert_exporter": "python",
   "pygments_lexer": "ipython3",
   "version": "3.8.8"
  }
 },
 "nbformat": 4,
 "nbformat_minor": 5
}
