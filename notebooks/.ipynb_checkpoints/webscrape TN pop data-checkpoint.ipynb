{
 "cells": [
  {
   "cell_type": "markdown",
   "id": "ff465d3e",
   "metadata": {},
   "source": [
    "## Beautiful soup on TN and Nashville population data"
   ]
  },
  {
   "cell_type": "code",
   "execution_count": null,
   "id": "f1b28f3e",
   "metadata": {},
   "outputs": [],
   "source": [
    "import requests\n",
    "from bs4 import BeautifulSoup  \n",
    "import pandas as pd\n",
    "import re\n",
    "%matplotlib inline"
   ]
  },
  {
   "cell_type": "code",
   "execution_count": null,
   "id": "046c2ac5",
   "metadata": {},
   "outputs": [],
   "source": [
    "url = 'https://www.census.gov/quickfacts/fact/table/nashvilledavidsonmetropolitangovernmentbalancetennessee,TN/PST045219#PST045219'\n",
    "response = requests.get(url)\n",
    "\n",
    "response.status_code"
   ]
  },
  {
   "cell_type": "code",
   "execution_count": null,
   "id": "2b9e9e16",
   "metadata": {},
   "outputs": [],
   "source": [
    "soup = BeautifulSoup(response.content, 'lxml')\n",
    "print(soup.title)\n",
    "print(\"--------------\")\n",
    "print(soup)"
   ]
  },
  {
   "cell_type": "code",
   "execution_count": null,
   "id": "b019bb0e",
   "metadata": {},
   "outputs": [],
   "source": [
    "td = soup.find_all('td')\n",
    "td"
   ]
  },
  {
   "cell_type": "code",
   "execution_count": null,
   "id": "4403d6b7",
   "metadata": {
    "scrolled": true
   },
   "outputs": [],
   "source": [
    "td[5:10]"
   ]
  },
  {
   "cell_type": "code",
   "execution_count": null,
   "id": "d5cf2893",
   "metadata": {},
   "outputs": [],
   "source": [
    "titles_list = []\n",
    "for title in titles:\n",
    "    titles_list.append(titles.text)"
   ]
  }
 ],
 "metadata": {
  "kernelspec": {
   "display_name": "Python 3",
   "language": "python",
   "name": "python3"
  },
  "language_info": {
   "codemirror_mode": {
    "name": "ipython",
    "version": 3
   },
   "file_extension": ".py",
   "mimetype": "text/x-python",
   "name": "python",
   "nbconvert_exporter": "python",
   "pygments_lexer": "ipython3",
   "version": "3.8.8"
  }
 },
 "nbformat": 4,
 "nbformat_minor": 5
}
