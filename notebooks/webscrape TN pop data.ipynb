{
 "cells": [
  {
   "cell_type": "markdown",
   "id": "ff465d3e",
   "metadata": {},
   "source": [
    "## BeautifulSoup on TN population data"
   ]
  },
  {
   "cell_type": "code",
   "execution_count": null,
   "id": "f1b28f3e",
   "metadata": {},
   "outputs": [],
   "source": [
    "import requests\n",
    "from bs4 import BeautifulSoup  \n",
    "import pandas as pd\n",
    "import re\n",
    "%matplotlib inline"
   ]
  },
  {
   "cell_type": "code",
   "execution_count": null,
   "id": "046c2ac5",
   "metadata": {
    "scrolled": true
   },
   "outputs": [],
   "source": [
    "url = 'https://www.census.gov/quickfacts/fact/table/TN/RHI625219'\n",
    "response = requests.get(url)\n",
    "\n",
    "response.status_code"
   ]
  },
  {
   "cell_type": "code",
   "execution_count": null,
   "id": "2b9e9e16",
   "metadata": {
    "scrolled": true
   },
   "outputs": [],
   "source": [
    "soup = BeautifulSoup(response.content, 'lxml')\n",
    "print(soup.title)\n",
    "print(\"--------------\")\n",
    "print(soup)"
   ]
  },
  {
   "cell_type": "code",
   "execution_count": null,
   "id": "3e46cd5e",
   "metadata": {},
   "outputs": [],
   "source": [
    "#trying to isolate headers, titles, values"
   ]
  },
  {
   "cell_type": "markdown",
   "id": "f60eb662",
   "metadata": {},
   "source": [
    "headers_total = soup.find_all(id = 'qfcontent')\n",
    "headers_total"
   ]
  },
  {
   "cell_type": "markdown",
   "id": "2f141a81",
   "metadata": {},
   "source": [
    "headers = []\n",
    "headers_total = soup.find_all(id = 'qfcontent')\n",
    "\n",
    "for item in headers:\n",
    "    headers.append(item.text)\n",
    "\n",
    "headers"
   ]
  },
  {
   "cell_type": "markdown",
   "id": "67b04d13",
   "metadata": {},
   "source": [
    "td = soup.find_all('td')\n",
    "td"
   ]
  },
  {
   "cell_type": "markdown",
   "id": "a60daaa9",
   "metadata": {
    "scrolled": true
   },
   "source": [
    "td[5:10]"
   ]
  },
  {
   "cell_type": "code",
   "execution_count": null,
   "id": "cf57a1ca",
   "metadata": {},
   "outputs": [],
   "source": [
    "#dataquest webscrape walkthrough"
   ]
  },
  {
   "cell_type": "code",
   "execution_count": null,
   "id": "baa39b9a",
   "metadata": {},
   "outputs": [],
   "source": [
    "list(soup.children)"
   ]
  },
  {
   "cell_type": "code",
   "execution_count": null,
   "id": "b6699ff3",
   "metadata": {},
   "outputs": [],
   "source": [
    "[type(item) for item in list(soup.children)]"
   ]
  },
  {
   "cell_type": "code",
   "execution_count": null,
   "id": "7898538b",
   "metadata": {},
   "outputs": [],
   "source": [
    "html = list(soup.children)[1]\n",
    "html"
   ]
  },
  {
   "cell_type": "code",
   "execution_count": null,
   "id": "28347866",
   "metadata": {},
   "outputs": [],
   "source": [
    "list(html.children)"
   ]
  },
  {
   "cell_type": "code",
   "execution_count": null,
   "id": "911d81c1",
   "metadata": {},
   "outputs": [],
   "source": [
    "html_text = html.get_text()\n",
    "html_text"
   ]
  },
  {
   "cell_type": "code",
   "execution_count": null,
   "id": "b98fc177",
   "metadata": {},
   "outputs": [],
   "source": [
    "#datacamp regex intro"
   ]
  },
  {
   "cell_type": "code",
   "execution_count": null,
   "id": "e7d44bb9",
   "metadata": {
    "scrolled": true
   },
   "outputs": [],
   "source": [
    "html_text = re.split(r'\\n', html_text)"
   ]
  },
  {
   "cell_type": "code",
   "execution_count": null,
   "id": "e33d0efd",
   "metadata": {},
   "outputs": [],
   "source": [
    "html_text"
   ]
  },
  {
   "cell_type": "code",
   "execution_count": null,
   "id": "fe230db8",
   "metadata": {},
   "outputs": [],
   "source": [
    "soup.find_all('span')[0].get_text()"
   ]
  },
  {
   "cell_type": "markdown",
   "id": "81696ee1",
   "metadata": {},
   "source": [
    "titles = []\n",
    "for title in titles:\n",
    "    re.findall(html_text, '\\n\\w+\\s\\w+\\s')"
   ]
  }
 ],
 "metadata": {
  "kernelspec": {
   "display_name": "Python 3",
   "language": "python",
   "name": "python3"
  },
  "language_info": {
   "codemirror_mode": {
    "name": "ipython",
    "version": 3
   },
   "file_extension": ".py",
   "mimetype": "text/x-python",
   "name": "python",
   "nbconvert_exporter": "python",
   "pygments_lexer": "ipython3",
   "version": "3.8.8"
  }
 },
 "nbformat": 4,
 "nbformat_minor": 5
}
